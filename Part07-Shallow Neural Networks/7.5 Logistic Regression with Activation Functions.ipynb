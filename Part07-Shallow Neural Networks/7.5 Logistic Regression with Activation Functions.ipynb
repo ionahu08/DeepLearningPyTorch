{
 "cells": [
  {
   "cell_type": "markdown",
   "metadata": {},
   "source": [
    "<h1>Activation Functions</h1> \n",
    "<ul><li> How to apply different Activation functions in Neural Network.</li></ul> \n",
    "\n",
    "<h2>Table of Contents</h2>\n",
    "<p>In this lab, you will cover logistic regression by using PyTorch.</p>\n",
    "\n",
    "<ul>\n",
    "    <li><a href=\"#Log\">Logistic Function</a></li>\n",
    "    <li><a href=\"#Tanh\">Tanh</a></li>\n",
    "    <li><a href=\"#Relu\">Relu</a></li>\n",
    "    <li><a href=\"#Compare\">Compare Activation Functions</a></li>\n",
    "</ul>\n",
    "<hr>\n",
    "\n"
   ]
  },
  {
   "cell_type": "code",
   "execution_count": null,
   "metadata": {},
   "outputs": [],
   "source": [
    "# Import the libraries we need for this lab\n",
    "import torch.nn as nn\n",
    "import torch\n",
    "import matplotlib.pyplot as plt\n",
    "torch.manual_seed(2)"
   ]
  },
  {
   "cell_type": "markdown",
   "metadata": {},
   "source": [
    "<h2 id=\"Log\">Logistic Function</h2>"
   ]
  },
  {
   "cell_type": "markdown",
   "metadata": {},
   "source": []
  },
  {
   "cell_type": "code",
   "execution_count": null,
   "metadata": {},
   "outputs": [],
   "source": [
    "# Create a tensor\n",
    "z = torch.arange(-10, 10, 0.1,).view(-1, 1)\n",
    "\n",
    "# Create a sigmoid object\n",
    "sig = nn.Sigmoid()\n",
    "\n",
    "# Make a prediction of sigmoid function\n",
    "yhat = sig(z)"
   ]
  },
  {
   "cell_type": "code",
   "execution_count": null,
   "metadata": {},
   "outputs": [],
   "source": [
    "# Plot the result\n",
    "plt.plot(z.detach().numpy(),yhat.detach().numpy())\n",
    "plt.xlabel('z')\n",
    "plt.ylabel('yhat')"
   ]
  },
  {
   "cell_type": "markdown",
   "metadata": {},
   "source": [
    "<h2 id=\"Tanh\">Tanh</h2>"
   ]
  },
  {
   "cell_type": "code",
   "execution_count": null,
   "metadata": {},
   "outputs": [],
   "source": [
    "# Create a tanh object\n",
    "TANH = nn.Tanh()\n",
    "\n",
    "# Make the prediction using tanh object\n",
    "yhat = TANH(z)\n",
    "plt.plot(z.numpy(), yhat.numpy())\n",
    "plt.show()"
   ]
  },
  {
   "cell_type": "markdown",
   "metadata": {},
   "source": [
    "<h2 id=\"Relu\">Relu</h2>"
   ]
  },
  {
   "cell_type": "code",
   "execution_count": null,
   "metadata": {},
   "outputs": [],
   "source": [
    "# Create a relu object and make the prediction\n",
    "RELU = nn.ReLU()\n",
    "yhat = RELU(z)\n",
    "plt.plot(z.numpy(), yhat.numpy())"
   ]
  },
  {
   "cell_type": "markdown",
   "metadata": {},
   "source": [
    "<a id=\"ref3\"></a>\n",
    "<h2> Compare Activation Functions </h2>"
   ]
  },
  {
   "cell_type": "code",
   "execution_count": null,
   "metadata": {},
   "outputs": [],
   "source": [
    "# Plot the results to compare the activation functions\n",
    "x = torch.arange(-2, 2, 0.1).view(-1, 1)\n",
    "plt.plot(x.numpy(), torch.relu(x).numpy(), label='relu')\n",
    "plt.plot(x.numpy(), torch.sigmoid(x).numpy(), label='sigmoid')\n",
    "plt.plot(x.numpy(), torch.tanh(x).numpy(), label='tanh')\n",
    "plt.legend()"
   ]
  }
 ],
 "metadata": {
  "kernelspec": {
   "display_name": "dl_pytorch",
   "language": "python",
   "name": "python3"
  },
  "language_info": {
   "codemirror_mode": {
    "name": "ipython",
    "version": 3
   },
   "file_extension": ".py",
   "mimetype": "text/x-python",
   "name": "python",
   "nbconvert_exporter": "python",
   "pygments_lexer": "ipython3",
   "version": "3.12.4"
  }
 },
 "nbformat": 4,
 "nbformat_minor": 2
}
