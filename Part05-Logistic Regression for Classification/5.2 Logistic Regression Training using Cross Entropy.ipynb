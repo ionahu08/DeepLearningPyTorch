{
 "cells": [
  {
   "cell_type": "markdown",
   "metadata": {},
   "source": [
    "<h1>Logistic Regression Training Negative Log likelihood (Cross-Entropy)</h1> \n",
    "\n",
    "<h2>Table of Contents</h2>\n",
    "<p>see what happens when you use the Cross-Entropy or total loss function using random initialization for a parameter value.</p>\n",
    "\n",
    "<ul>\n",
    "    <li><a href=\"#Makeup_Data\">Make Some Data</a></li>\n",
    "    <li><a href=\"#Model_Cost\">Create the Model and Cost Function the PyTorch way </a></li>\n",
    "    <li><a href=\"#BGD\">Train the Model: Batch Gradient Descent</a></li>\n",
    "</ul>\n",
    "<hr>\n",
    "\n",
    "<h2>Preparation</h2>\n"
   ]
  },
  {
   "cell_type": "code",
   "execution_count": null,
   "metadata": {},
   "outputs": [],
   "source": [
    "# Import the libraries we need for this lab\n",
    "import numpy as np\n",
    "import matplotlib.pyplot as plt \n",
    "# from mpl_toolkits import mplot3d\n",
    "import torch\n",
    "from torch.utils.data import Dataset, DataLoader\n",
    "import torch.nn as nn\n",
    "\n",
    "torch.manual_seed(0)"
   ]
  },
  {
   "cell_type": "markdown",
   "metadata": {},
   "source": [
    "<h2 id=\"Makeup_Data\">Get Some Data</h2>"
   ]
  },
  {
   "cell_type": "code",
   "execution_count": null,
   "metadata": {},
   "outputs": [],
   "source": [
    "# Create the data class\n",
    "class Data(Dataset):\n",
    "    \n",
    "    # Constructor\n",
    "    def __init__(self):\n",
    "        self.x = torch.arange(-1, 1, 0.1).view(-1, 1)\n",
    "        self.y = torch.zeros(self.x.shape[0], 1)\n",
    "        self.y[self.x[:, 0] > 0.2] = 1\n",
    "        self.len = self.x.shape[0]\n",
    "    \n",
    "    # Getter\n",
    "    def __getitem__(self, index):      \n",
    "        return self.x[index], self.y[index]\n",
    "    \n",
    "    # Get length\n",
    "    def __len__(self):\n",
    "        return self.len\n",
    "    \n",
    "# Create Data object\n",
    "data_set = Data()"
   ]
  },
  {
   "cell_type": "markdown",
   "metadata": {},
   "source": [
    "<h2 id=\"Model_Cost\">Create the Model and Total Loss Function (Cost)</h2>"
   ]
  },
  {
   "cell_type": "code",
   "execution_count": null,
   "metadata": {},
   "outputs": [],
   "source": [
    "# Create logistic_regression class\n",
    "class logistic_regression(nn.Module):\n",
    "    \n",
    "    # Constructor\n",
    "    def __init__(self, n_inputs):\n",
    "        super(logistic_regression, self).__init__()\n",
    "        self.linear = nn.Linear(n_inputs, 1)\n",
    "        \n",
    "    # Prediction\n",
    "    def forward(self, x):\n",
    "        yhat = torch.sigmoid(self.linear(x))\n",
    "        return yhat\n",
    "    \n",
    "\n",
    "# Create the logistic_regression result\n",
    "model = logistic_regression(1)"
   ]
  },
  {
   "cell_type": "code",
   "execution_count": null,
   "metadata": {},
   "outputs": [],
   "source": [
    "# Create dataloader, criterion function and optimizer\n",
    "def criterion(yhat,y):\n",
    "    out = -1 * torch.mean(y * torch.log(yhat) + (1 - y) * torch.log(1 - yhat))\n",
    "    return out\n",
    "\n",
    "# Build in criterion\n",
    "# criterion = nn.BCELoss()\n",
    "trainloader = DataLoader(dataset = data_set, batch_size = 3)\n",
    "learning_rate = 2\n",
    "optimizer = torch.optim.SGD(model.parameters(), lr = learning_rate)"
   ]
  },
  {
   "cell_type": "markdown",
   "metadata": {},
   "source": [
    "<h2 id=\"BGD\">Train the Model via Batch Gradient Descent</h2>"
   ]
  },
  {
   "cell_type": "code",
   "execution_count": null,
   "metadata": {},
   "outputs": [],
   "source": [
    "# Train the Model\n",
    "def train_model(epochs):\n",
    "    for epoch in range(epochs):\n",
    "        for x, y in trainloader:\n",
    "            yhat = model(x)\n",
    "            loss = criterion(yhat, y)\n",
    "            optimizer.zero_grad()\n",
    "            loss.backward()\n",
    "            optimizer.step()\n",
    "            # get_surface.set_para_loss(model, loss.tolist())\n",
    "        # if epoch % 20 == 0:\n",
    "            # get_surface.plot_ps()\n",
    "            \n",
    "train_model(100)"
   ]
  },
  {
   "cell_type": "code",
   "execution_count": null,
   "metadata": {},
   "outputs": [],
   "source": [
    "# Make the Prediction\n",
    "yhat = model(data_set.x)\n",
    "label = yhat > 0.5\n",
    "print(\"The accuracy: \", torch.mean((label == data_set.y.type(torch.ByteTensor)).type(torch.float)))"
   ]
  },
  {
   "cell_type": "markdown",
   "metadata": {},
   "source": [
    "The accuracy is perfect."
   ]
  },
  {
   "cell_type": "markdown",
   "metadata": {},
   "source": []
  }
 ],
 "metadata": {
  "kernelspec": {
   "display_name": "dl_pytorch",
   "language": "python",
   "name": "python3"
  },
  "language_info": {
   "codemirror_mode": {
    "name": "ipython",
    "version": 3
   },
   "file_extension": ".py",
   "mimetype": "text/x-python",
   "name": "python",
   "nbconvert_exporter": "python",
   "pygments_lexer": "ipython3",
   "version": "3.12.4"
  }
 },
 "nbformat": 4,
 "nbformat_minor": 2
}
